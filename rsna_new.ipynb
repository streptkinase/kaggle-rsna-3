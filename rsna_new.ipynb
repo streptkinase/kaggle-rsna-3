{
 "cells": [
  {
   "cell_type": "code",
   "execution_count": 1,
   "metadata": {},
   "outputs": [
    {
     "name": "stdout",
     "output_type": "stream",
     "text": [
      "NAME   MAJ:MIN RM  SIZE RO TYPE MOUNTPOINT\n",
      "sda      8:0    0  100G  0 disk \n",
      "└─sda1   8:1    0  100G  0 part /\n",
      "sdb      8:16   0   60G  0 disk \n"
     ]
    }
   ],
   "source": [
    "!sudo lsblk"
   ]
  },
  {
   "cell_type": "code",
   "execution_count": 2,
   "metadata": {},
   "outputs": [],
   "source": [
    "!sudo mkdir -p /mnt/disks/mount_point"
   ]
  },
  {
   "cell_type": "code",
   "execution_count": 3,
   "metadata": {},
   "outputs": [],
   "source": [
    "!sudo mount -o discard,defaults /dev/sdb /mnt/disks/mount_point/"
   ]
  },
  {
   "cell_type": "code",
   "execution_count": 4,
   "metadata": {},
   "outputs": [],
   "source": [
    "!sudo chmod a+w /mnt/disks/mount_point/"
   ]
  },
  {
   "cell_type": "code",
   "execution_count": 9,
   "metadata": {},
   "outputs": [
    {
     "name": "stdout",
     "output_type": "stream",
     "text": [
      "\u001b[0m\u001b[01;34mbackups\u001b[0m/            sometext.txt                       train22.pth\n",
      "\u001b[01;34mcheckpoints\u001b[0m/        stage_1_sample_submission.csv      train23.pth\n",
      "\u001b[01;34mcopied_from_bootd\u001b[0m/  stage_1_sample_submission.csv.zip  train24.pth\n",
      "example.pth         \u001b[01;34mstage_1_test_images_jpg\u001b[0m/           train25.pth\n",
      "ipython_log.py      stage_1_train.csv                  train26.pth\n",
      "\u001b[01;34mlost+found\u001b[0m/         stage_1_train.csv.zip              train.csv\n",
      "ongoing.ipynb       \u001b[01;34mstage_1_train_images_jpg\u001b[0m/          \u001b[01;34mtrain_splitted\u001b[0m/\n",
      "process_csv.py      stderr.txt                         trial.py\n",
      "rsna.ipynb          stdout.txt                         Untitled.ipynb\n",
      "rsna.py             test.csv                           Untitled.py\n",
      "rsna_resnext.py     train20.pth                        valid.csv\n",
      "sample.txt          train21.pth\n"
     ]
    }
   ],
   "source": [
    "ls /mnt/disks/mount_point/"
   ]
  },
  {
   "cell_type": "code",
   "execution_count": 7,
   "metadata": {},
   "outputs": [],
   "source": [
    "!cp /mnt/disks/mount_point/copied_from_bootd/ongoing.ipynb ."
   ]
  },
  {
   "cell_type": "code",
   "execution_count": 10,
   "metadata": {},
   "outputs": [],
   "source": [
    "!cp /mnt/disks/mount_point/Untitled.ipynb ."
   ]
  },
  {
   "cell_type": "code",
   "execution_count": null,
   "metadata": {},
   "outputs": [],
   "source": []
  }
 ],
 "metadata": {
  "kernelspec": {
   "display_name": "Python 3",
   "language": "python",
   "name": "python3"
  },
  "language_info": {
   "codemirror_mode": {
    "name": "ipython",
    "version": 3
   },
   "file_extension": ".py",
   "mimetype": "text/x-python",
   "name": "python",
   "nbconvert_exporter": "python",
   "pygments_lexer": "ipython3",
   "version": "3.7.4"
  }
 },
 "nbformat": 4,
 "nbformat_minor": 4
}
